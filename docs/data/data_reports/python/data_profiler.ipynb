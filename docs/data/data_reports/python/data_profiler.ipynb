{
 "cells": [
  {
   "cell_type": "markdown",
   "metadata": {
    "scrolled": false,
    "slideshow": {
     "slide_type": "slide"
    }
   },
   "source": [
    "## Data Profiler\n",
    "\n",
    "Generate data profile reports from a dataiku dataset or sql query for serious exploratory data analysis. This function uses [pandas_profiling](https://github.com/pandas-profiling/pandas-profiling) to produce data profiles for quick data analysis.\n",
    "\n",
    "### Generating a data profile:\n",
    "\n",
    "1. Change python environment (kernel) to one that has the pandas-profiling package installed. You can do this by clicking the kernel menu option from inside the notebook. At the top of the notebook click 'Kernel' > 'Change kernel' > 'Python (env Data-Profiling)\n",
    "2. Enter paramaters in the pre-built function for data source (SQL vs dataiku dataset) and output location (in the notebook vs on the shared network drive)\n",
    "3. Run all the cells in the notebook"
   ]
  },
  {
   "cell_type": "code",
   "execution_count": 98,
   "metadata": {},
   "outputs": [],
   "source": [
    "def data_report(data = None, dss_project = None, SQL = False, \n",
    "                sql_connection = \"Oracle_Pophealth_Analytics\"\n",
    "                , download = False, userID = None , password = None\n",
    "               ):\n",
    "    \"\"\"Build parameters to create a data report using Pandas-Profiling\"\"\"\n",
    "    import dataiku\n",
    "    from dataiku import pandasutils as pdu\n",
    "    import pandas as pd\n",
    "    from pandas_profiling import ProfileReport\n",
    "    \n",
    "    if SQL:\n",
    "        print(\"Using SQL Table for report\")\n",
    "        from dataiku.core.sql import SQLExecutor2\n",
    "        if data is None:\n",
    "            sql_table = 'Dual'\n",
    "        else: \n",
    "            sql_table = data\n",
    "        sql_query = (\"select * from \" + sql_table)\n",
    "        df = SQLExecutor2(sql_connection).query_to_df(sql_query) # load sql query results into dataframe\n",
    "    else:\n",
    "        if dss_project is None:\n",
    "            import os\n",
    "            dss_project = os.environ['DKU_CURRENT_PROJECT_KEY'] \n",
    "        if data is None:\n",
    "            import numpy as np\n",
    "            df = pd.DataFrame(\n",
    "                np.random.rand(100, 5),\n",
    "                columns=[\"a\", \"b\", \"c\", \"d\", \"e\"]\n",
    "            )\n",
    "        else: \n",
    "            df = dataiku.Dataset(data, dss_project).get_dataframe()\n",
    "    \n",
    "    # generate report styling using a custom config\n",
    "    profile = ProfileReport(df, config_file='/datadrive/data_dir/code-envs/packages/config.yaml')\n",
    "    \n",
    "    # if enabled save report to network drive\n",
    "    if download:\n",
    "        from smb.SMBConnection import SMBConnection\n",
    "        import sys\n",
    "        # set parameters\n",
    "        if userID is None:\n",
    "            print(\"user id is missing, can't connect to network shared drive\")\n",
    "            sys.exit('null userID') \n",
    "        if password is None:\n",
    "            print(\"password is missing, can't connect to network shared drive\")\n",
    "            sys.exit('null password') \n",
    "        client_machine_name = ''\n",
    "        server_name = 'mshs6290b-cifs'\n",
    "        server_ip = '10.2.110.53'\n",
    "        service_name = 'GRPS4'\n",
    "        target = '/DataikuShare/'\n",
    "        # create connection to network share\n",
    "        conn = SMBConnection(userID, password, client_machine_name, server_name)\n",
    "        \n",
    "        # test connection\n",
    "        if conn.connect(server_ip):\n",
    "            print('connection successful')\n",
    "            from datetime import datetime as dt\n",
    "            now=dt.now().strftime('%Y-%m-%d_%H%M')\n",
    "            local_file = \"data_report_\" + now + '.html'\n",
    "            print(' starting to build report at: ' + now)\n",
    "            local_dir = '/datadrive/data_dir/uploads/'\n",
    "#             print(' saving report locally to: ' + local_dir)\n",
    "            file_name = local_dir + local_file\n",
    "#             print(file_name)\n",
    "            # create data profile and save to file\n",
    "            profile.to_file((local_dir + local_file))\n",
    "            print(' created data report: ' + local_file)\n",
    "            \n",
    "            # read report from local file and write to file on network share\n",
    "            with open((local_dir + local_file), 'rb', buffering=0) as file_obj:\n",
    "                    print(' saveing ' + local_file + ' to ' + target)\n",
    "                    conn.storeFile('GRPS4', target + local_file, file_obj)\n",
    "            if file_obj.closed:\n",
    "                # if report was written to network drive delete local copy\n",
    "                import os\n",
    "                os.remove(file_name)\n",
    "                conn.close()\n",
    "                print('connection closed')\n",
    "        else:\n",
    "            print('connection error')\n",
    "    else:\n",
    "        from IPython.display import HTML\n",
    "        from datetime import datetime as dt\n",
    "        now=dt.now().strftime('%Y-%m-%d_%H%M%S')\n",
    "        local_file = \"data_report_\" + now + \".html\"\n",
    "        serve_dir = \"/datadrive/data_dir/local/static/data_profile/\"\n",
    "        site = \"https://dataiku-designer.mountsinai.org/local/static/data_profile/\"\n",
    "#         print(local_file)\n",
    "        profile.to_file(serve_dir + local_file)\n",
    "        # def create_download_link( file, title = \"Download file\", filename = \"data_profile\"):\n",
    "#         def create_download_link( title = \"Download file\", filename = \"data_profile\"):\n",
    "        payload= site + local_file\n",
    "        title = \"View Data Profile\"\n",
    "        html = '<a href=\"{payload}\" target=\"_blank\">{title}</a>'\n",
    "        html = html.format(payload=payload,title=title)\n",
    "        return HTML(html)\n",
    "#         return(profile.to_notebook_iframe())\n",
    "#         return()\n",
    "        # profile.to_widget()"
   ]
  },
  {
   "cell_type": "markdown",
   "metadata": {},
   "source": [
    "### Configuring the report\n",
    "\n",
    "If no parameters are passed, the defualt configuration will create a random dataset and produce the report inside the notebook\n",
    "\n",
    "#### data\n",
    "1. To read data in from a dataset in the current dataiku project simply enter the dataset name.\n",
    "    - `data = 'my_dataset'`\n",
    "2. To read data in from a dataset in a different dataiku project you will have to specificy the dataset name and the project key.   \n",
    "    - `data = 'my_dataset_name', dss_project = 'my_project_key'`\n",
    "    - The project key is provided in the dataiku url immediately after `/project/` (i.e. https://dataiku-designer.mountsinai.org/projects/my_project_key/)\n",
    "3. To read data in directly from a sql table, enter the table name and set the SQL flag to true.\n",
    "    - `data = 'my_sql_table', SQL = True` \n",
    "\n",
    "\n",
    "#### download\n",
    "\n",
    "Download the report to the network shared drive by setting the download flag to true.\n",
    "Since the network drive is not configured in dataiku this program creates the connection. You therefore have to provide your userID and password.\n",
    "- `download = True, userID='zywota01', password='my_$ecret_pwd'`"
   ]
  },
  {
   "cell_type": "code",
   "execution_count": 99,
   "metadata": {},
   "outputs": [],
   "source": [
    "# Examples:\n",
    "\n",
    "# To run the report with default settings uncomment the line below. This will generate a random dataset and display the report in the notebook.\n",
    "#data_report()\n",
    "\n",
    "# To run the report with a dataset from the current dataiku project, uncomment the line below. Make sure to enter the name of the dataset you want to use. This will display the report in the notebook. \n",
    "#data_report(data='my_dataset')  \n",
    "\n",
    "# To run the report on a SQL table uncomment the line below. This will run `select * from 'my_table'` and display the report in the notebook. \n",
    "#data_report(data='my_table', SQL = True)\n",
    "\n",
    "# To run the report with default settings and save it to the network shared drive uncomment the line below. You will have to enter you network userID and password to connect to the network drive. This will generate a random dataset and save the report on the network shared drive in the folder DataikuShare.\n",
    "#data_report( download=True, userID='zywota01', password='my_$ecret_pwd')"
   ]
  },
  {
   "cell_type": "code",
   "execution_count": 103,
   "metadata": {},
   "outputs": [
    {
     "name": "stdout",
     "output_type": "stream",
     "text": [
      "Using SQL Table for report\n",
      "data_report_2020-07-02_1806.html\n"
     ]
    },
    {
     "data": {
      "text/html": [
       "<a href=\"https://dataiku-designer.mountsinai.org/local/static/data_profile/data_report_2020-07-02_1806.html\" target=\"_blank\">View Data Profile</a>"
      ],
      "text/plain": [
       "<IPython.core.display.HTML object>"
      ]
     },
     "execution_count": 103,
     "metadata": {},
     "output_type": "execute_result"
    }
   ],
   "source": [
    "data_report(data = 'EPIC_VIDEO_VIS_DET_VW', SQL=True)"
   ]
  },
  {
   "cell_type": "code",
   "execution_count": null,
   "metadata": {},
   "outputs": [],
   "source": [
    "EPIC_VIDEO_VIS_AUDIT_VW\n",
    "EPIC_VIDEO_VIS_DET_VW\n",
    "V\n"
   ]
  }
 ],
 "metadata": {
  "analyzedDataset": "telehealth_test2",
  "celltoolbar": "Edit Metadata",
  "creator": "zywota01",
  "customFields": {},
  "kernelspec": {
   "display_name": "Python (env Data-Profiling)",
   "language": "python",
   "name": "py-dku-venv-data-profiling"
  },
  "language_info": {
   "codemirror_mode": {
    "name": "ipython",
    "version": 3
   },
   "file_extension": ".py",
   "mimetype": "text/x-python",
   "name": "python",
   "nbconvert_exporter": "python",
   "pygments_lexer": "ipython3",
   "version": "3.6.8"
  },
  "tags": []
 },
 "nbformat": 4,
 "nbformat_minor": 1
}